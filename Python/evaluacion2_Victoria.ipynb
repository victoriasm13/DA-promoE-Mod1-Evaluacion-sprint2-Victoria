{
 "cells": [
  {
   "attachments": {},
   "cell_type": "markdown",
   "metadata": {},
   "source": [
    "En esta evaluación tendremos que crearnos una clase. Estamos trabajando para una editorial y tienen muchos ficheros de tipo .txt. Quieren hacer un estudio de palabras de los textos que tienen, para ello nos piden que nos creemos una clase que:\n",
    "\n",
    "- Reciba dos parámetros en el método constructor: \n",
    "\n",
    "    - La ruta donde se encuentra el fichero\n",
    "    - El nombre y la extensión del fichero que quieren abrir. \n",
    "\n",
    "- Tenga un método que nos abra el fichero en python, como un único *string*. Este método tiene que ser capaz de abrir cualquier tipo de fichero y que este ubicado en cualquier ubicación de nuestros ordenadores. \n",
    "\n",
    "- Tenga un método que lea un número \"X\" de palabras del texto. En este caso, el número de palabras que queremos leer debe ser un parámetro de este método. En este código deberemos incluir:\n",
    "    - Que si nos pasan como valor de número de palabras un número que no sea *integer*, nos salga un mensaje por pantalla que nos avise que la operación no se pueden hacer ya que necesitamos que sea un número *integer*. \n",
    "\n",
    "- Similar que en el paso anterior, crea un método que nos permita leer \"X\" lineas del texto. En este caso, el número de lineas que quiere leer el usuario no debe ser un parámetro del método. Tendremos que:\n",
    "\n",
    "    - Crear un *input* en el método que le pregunte al usuario cuántas líneas quiere leer\n",
    "\n",
    "    - Que tenga un control de errores por si el valor que nos pasa el usuario no es correcto, como por ejemplo un valor decimal. \n",
    "\n",
    "    - Además tenemos que tener en cuenta en el código que puede que el usuario quiera leer todas las líneas del archivo. Incluye en el programa el código necesario para que si el usuario nos indica que quiere leer todas las líneas el programa lo pueda hacer.  \n",
    "\n",
    "    **BONUS** En vez de devolver el resultado como una lista de *string* devuelvelo como un único *string*. \n",
    "\n",
    "- En este punto de la evaluación ya os habréis dado cuenta que en este fichero las primeras lineas no corresponden al quijote. Pero entonces... ¿en qué punto empieza el libro del quijote? En concreto, el libro está comprendido entre la lineas 1780 y 74276. Crea un método que solo nos devuelva el contenido del libro, sin la introducción inicial. \n",
    "\n",
    "\n",
    "-  Crea un último método en la clase que nos permita extraer las veces que aparece determinada palabra en el libro. Para eso este método deberá: \n",
    "\n",
    "    - Recibir la palabra o palabras que quiere buscar el usuario en el texto. \n",
    "    - Devolver el número de veces que aparece dicha palabra. \n",
    "    - Para confirmar que vuestro código, deberéis buscar las siguientes palabras como ejemplos de este método: \n",
    "\n",
    "        - Quijote, debemos tener en cuenta que aparezca en mayúscula o en minúscula, es decir, \"Quijote\" o \"quijote\"\n",
    "\n",
    "        - Alonso,  debemos tener en cuenta que aparezca en mayúscula o en minúscula, es decir, \"Quijote\" o \"quijote\"\n",
    "\n",
    "        - Don Quijote, debemos tener en cuenta que aparezca en mayúscula o en minúscula, es decir, \"Quijote\" o \"quijote\"\n",
    "    \n",
    "- **Nota**: Puede que tengáis algunos problemas para abrir el fichero, esto es por el `encoding` que tiene. Para solucionar este problema deberéis usar un encoding = \"latin-1\"\n",
    "\n",
    "- **Nota**: El fichero de `quijote.txt` debe encontrarse en una carpeta llamada `data`, diferente de donde se encuentra este fichero jupyter con la resolución."
   ]
  },
  {
   "cell_type": "code",
   "execution_count": 4,
   "metadata": {},
   "outputs": [],
   "source": [
    "import os\n",
    "import re\n",
    "ruta = 'data'\n",
    "archivo = 'quijote.txt'"
   ]
  },
  {
   "cell_type": "code",
   "execution_count": 2,
   "metadata": {},
   "outputs": [],
   "source": [
    "class RepasoEditorial():\n",
    "    #Definimos la clase sobre la que vamos a trabajar.\n",
    "    def __init__(self, ruta, archivo):\n",
    "        #Método constructor\n",
    "        self.ruta = ruta\n",
    "        self.archivo = archivo\n",
    "    def apertura_archivo(self):\n",
    "        #Método que abre el fichero desde Python como un único string\n",
    "        with open(f'{ruta}/{archivo}', \"r\", encoding = 'latin-1') as f:\n",
    "                resultado = f.read()\n",
    "        return resultado\n",
    "    \n",
    "    def lectura_de_palabras(self,nump):\n",
    "        #Método que nos permite leer  un determinado número de palabras del archivo\n",
    "        if type(nump) != int: \n",
    "            print('No has introducido un int')\n",
    "        else:\n",
    "         texto = self.apertura_archivo()\n",
    "         #Llamamos al método que está definido de la clase que abre el archivo y nos devuelve un string\n",
    "         palabras = texto.split()\n",
    "         frase_final = ' '.join(palabras[:nump])\n",
    "         print(frase_final)\n",
    "\n",
    "    def lectura_de_lineas(self, num):\n",
    "        #Método que nos permite leer un determinado número de lineas\n",
    "        if type(num) == str and num == 'todas':\n",
    "            texto = self.apertura_archivo()\n",
    "            return print(texto)\n",
    "        elif type(num) is not int:\n",
    "            print('Error, has introducido un valor no int')\n",
    "        else:\n",
    "           texto = self.apertura_archivo()\n",
    "           lineas = texto.split('\\n')\n",
    "           #Como el método de apertura nos devuelve un único string, usamos el salto de línea para dividirlo en una lista de strings\n",
    "           return lineas[:num]\n",
    "    def libro(self):\n",
    "        #Método que nos recoge el libro sin el prólogo. \n",
    "            texto = self.apertura_archivo()\n",
    "            lineas = texto.split('\\n')\n",
    "        #Almacenamos el contenido que buscamos en una nueva variable\n",
    "            libro = lineas[1780:74276]\n",
    "            return libro\n",
    "\n",
    "    def palabras(self, palabra):\n",
    "        #Método que recoge la cantidad de coincidencias de una palabra en el texto\n",
    "            texto = self.apertura_archivo()\n",
    "            patron = palabra.title()\n",
    "            resultado = re.findall(patron, texto)\n",
    "            #Llamamos al método findall para que nos devuelva las coincidencias dentro del texto\n",
    "            print('Las palabras encontradas que coinciden con la propuesta son:', len(resultado))"
   ]
  }
 ],
 "metadata": {
  "kernelspec": {
   "display_name": "Python 3",
   "language": "python",
   "name": "python3"
  },
  "language_info": {
   "codemirror_mode": {
    "name": "ipython",
    "version": 3
   },
   "file_extension": ".py",
   "mimetype": "text/x-python",
   "name": "python",
   "nbconvert_exporter": "python",
   "pygments_lexer": "ipython3",
   "version": "3.9.7"
  },
  "orig_nbformat": 4,
  "vscode": {
   "interpreter": {
    "hash": "31f2aee4e71d21fbe5cf8b01ff0e069b9275f58929596ceb00d14d90e3e16cd6"
   }
  }
 },
 "nbformat": 4,
 "nbformat_minor": 2
}
